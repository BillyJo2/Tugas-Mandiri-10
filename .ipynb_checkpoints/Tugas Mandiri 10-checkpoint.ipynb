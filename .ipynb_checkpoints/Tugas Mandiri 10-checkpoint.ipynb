{
 "cells": [
  {
   "cell_type": "code",
   "execution_count": 1,
   "id": "c7145bdf",
   "metadata": {},
   "outputs": [
    {
     "name": "stdout",
     "output_type": "stream",
     "text": [
      "Tiga nilai tertinggi adalah: [100, 90, 80]\n"
     ]
    }
   ],
   "source": [
    "def tiga_nilai_tertinggi(lst):\n",
    "    return sorted(lst, reverse=True)[:3]\n",
    "\n",
    "nilai_list = [10, 20, 30, 40, 50, 60, 70, 80, 90, 100]\n",
    "nilai_tertinggi = tiga_nilai_tertinggi(nilai_list)\n",
    "print(\"Tiga nilai tertinggi adalah:\", nilai_tertinggi)\n"
   ]
  },
  {
   "cell_type": "code",
   "execution_count": 15,
   "id": "0f61b9da",
   "metadata": {},
   "outputs": [
    {
     "name": "stdout",
     "output_type": "stream",
     "text": [
      "ketik 'done' untuk selesai: done\n",
      "Angka dalam list: [10, 20, 30, 40, 50, 60, 70, 80, 90, 100]\n",
      "Nilai maksimum adalah: 100\n",
      "Nilai minimum adalah: 10\n"
     ]
    }
   ],
   "source": [
    "angka_list = [10, 20, 30, 40, 50, 60, 70, 80, 90, 100]\n",
    "\n",
    "while True:\n",
    "    masukan = input(\"ketik 'done' untuk selesai: \")\n",
    "\n",
    "    if masukan.lower() == 'done':\n",
    "        print(\"Angka dalam list:\", angka_list)\n",
    "        print(f\"Nilai maksimum adalah: {max(angka_list)}\")\n",
    "        print(f\"Nilai minimum adalah: {min(angka_list)}\")\n",
    "        break\n",
    "    else:\n",
    "        try:\n",
    "            angka_baru = float(masukan)\n",
    "            angka_list.append(angka_baru)\n",
    "        except ValueError:\n",
    "            print(\"Masukan bukan angka. Silakan coba lagi.\")\n"
   ]
  }
 ],
 "metadata": {
  "kernelspec": {
   "display_name": "Python 3 (ipykernel)",
   "language": "python",
   "name": "python3"
  },
  "language_info": {
   "codemirror_mode": {
    "name": "ipython",
    "version": 3
   },
   "file_extension": ".py",
   "mimetype": "text/x-python",
   "name": "python",
   "nbconvert_exporter": "python",
   "pygments_lexer": "ipython3",
   "version": "3.11.5"
  }
 },
 "nbformat": 4,
 "nbformat_minor": 5
}
